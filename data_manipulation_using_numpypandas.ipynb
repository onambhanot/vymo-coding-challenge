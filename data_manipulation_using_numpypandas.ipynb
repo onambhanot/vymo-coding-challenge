{
 "cells": [
  {
   "cell_type": "markdown",
   "metadata": {},
   "source": [
    "# Function Section"
   ]
  },
  {
   "cell_type": "markdown",
   "metadata": {},
   "source": [
    "# Question 1\n",
    "Write a function wordcount that takes a string as input, and outputs the word-count. The function should ignore any punctuation and capitalisation. Also, any numbers should be counted as a token-word \"NUMBER\".\n",
    "\n",
    "Example:\n",
    ">>> wordcount('This is a test. There are 14 words and 2 sentences in this test!')\n",
    "{'this': 2, 'is': 1, 'a': 1, 'test': 2, 'there': 1, 'are': 1, 'NUMBER': 2, 'words': 1, 'and': 1, 'sentences': 1, 'in': 1}"
   ]
  },
  {
   "cell_type": "code",
   "execution_count": 8,
   "metadata": {},
   "outputs": [
    {
     "name": "stdout",
     "output_type": "stream",
     "text": [
      "{'NUMBER': 2, 'This': 1, 'is': 1, 'a': 1, 'test': 2, 'There': 1, 'are': 1, 'words': 1, 'and': 1, 'sentences': 1, 'in': 1, 'this': 1}\n"
     ]
    }
   ],
   "source": [
    "def wordcount(string_input):\n",
    "    \n",
    "    counts={}\n",
    "    # initializing punctuations string\n",
    "    punc = '''!()-[]{};:'\"\\,<>./?@#$%^&*_~'''\n",
    "    # Removing punctuations in string\n",
    "    # Using loop + punctuation string\n",
    "    for p in string_input:\n",
    "        if p in punc:\n",
    "            string_input = string_input.replace(p,\"\")\n",
    "    new_list = string_input.split(\" \")   #splitting the clean string into list \n",
    "    counts['NUMBER']=0 #initialising key as NUMBER for digits\n",
    "    for i in new_list: #looping the list\n",
    "        if i.isdigit(): #checking for the numbers\n",
    "            counts['NUMBER']+=1\n",
    "        else:\n",
    "            if i in counts:\n",
    "                counts[i] += 1\n",
    "            else:\n",
    "                counts[i] = 1\n",
    "        \n",
    "        \n",
    "    return counts\n",
    "result=wordcount(\"This is a test. There are 14 words and 2 sentences in this test!\")\n",
    "print(result)\n",
    "\n",
    "        "
   ]
  },
  {
   "cell_type": "markdown",
   "metadata": {},
   "source": [
    "# Question 2\n",
    "Write a function wordsearch that takes two arguments:\n",
    "- a list of strings\n",
    "- a one-word string\n",
    "and outputs the string which contains the maximum number of occurences of the word (ignoring punctuation and capitalisation)\n",
    "Example:\n",
    ">>> wordsearch(['Sentence 1', 'This is sentence number 2.', 'Sentence 3: one more sentence.'], 'sentence')\n",
    "'Sentence 3: one more sentence.'"
   ]
  },
  {
   "cell_type": "code",
   "execution_count": 9,
   "metadata": {},
   "outputs": [
    {
     "name": "stdout",
     "output_type": "stream",
     "text": [
      "Sentence 3:one more sentence.\n"
     ]
    }
   ],
   "source": [
    "def wordsearch(list1,string1):\n",
    "    new_list=[0]*len(list1) #creating an empty list\n",
    "    for i in range(0,len(list1)):\n",
    "        list2=list1[i].split()\n",
    "        for k in range(0,len(list2)):\n",
    "            if string1.lower() in list2[k].lower():\n",
    "                new_list[i]+=1\n",
    "    max1=max(new_list)\n",
    "    ind=new_list.index(max1)\n",
    "    return list1[ind]\n",
    "result=wordsearch(['Sentence 1','This is sentence  number 2.','Sentence 3:one more sentence.'],'sentence')\n",
    "print(result)\n",
    "        "
   ]
  },
  {
   "cell_type": "markdown",
   "metadata": {},
   "source": [
    "# Pandas Section\n"
   ]
  },
  {
   "cell_type": "code",
   "execution_count": null,
   "metadata": {},
   "outputs": [],
   "source": [
    "#question 1 : show common values from two arrays\n",
    "#question 2 compare two array and remove the repative array in a\n",
    "#ques 3,  remove dupicates from column 1 and show only first occurances"
   ]
  },
  {
   "cell_type": "code",
   "execution_count": 11,
   "metadata": {},
   "outputs": [],
   "source": [
    "import numpy as np\n",
    "import pandas as pd\n",
    "\n",
    "a = np.array([1,2,3,4,5])\n",
    "b = np.array([2,3,6,7,8])"
   ]
  },
  {
   "cell_type": "code",
   "execution_count": 3,
   "metadata": {},
   "outputs": [
    {
     "data": {
      "text/plain": [
       "array([2, 3])"
      ]
     },
     "execution_count": 3,
     "metadata": {},
     "output_type": "execute_result"
    }
   ],
   "source": [
    "#question 1 : show common values\n",
    "common=np.intersect1d(a,b)\n",
    "common"
   ]
  },
  {
   "cell_type": "code",
   "execution_count": 4,
   "metadata": {},
   "outputs": [
    {
     "data": {
      "text/plain": [
       "array([1, 4, 5])"
      ]
     },
     "execution_count": 4,
     "metadata": {},
     "output_type": "execute_result"
    }
   ],
   "source": [
    "#question 2 compare two array and remove the repative array in a\n",
    "non_rep= np.setdiff1d(a,b)\n",
    "non_rep"
   ]
  },
  {
   "cell_type": "code",
   "execution_count": 6,
   "metadata": {},
   "outputs": [
    {
     "data": {
      "text/html": [
       "<div>\n",
       "<style scoped>\n",
       "    .dataframe tbody tr th:only-of-type {\n",
       "        vertical-align: middle;\n",
       "    }\n",
       "\n",
       "    .dataframe tbody tr th {\n",
       "        vertical-align: top;\n",
       "    }\n",
       "\n",
       "    .dataframe thead th {\n",
       "        text-align: right;\n",
       "    }\n",
       "</style>\n",
       "<table border=\"1\" class=\"dataframe\">\n",
       "  <thead>\n",
       "    <tr style=\"text-align: right;\">\n",
       "      <th></th>\n",
       "      <th>0</th>\n",
       "      <th>1</th>\n",
       "      <th>2</th>\n",
       "      <th>3</th>\n",
       "      <th>4</th>\n",
       "    </tr>\n",
       "  </thead>\n",
       "  <tbody>\n",
       "    <tr>\n",
       "      <th>0</th>\n",
       "      <td>1</td>\n",
       "      <td>2</td>\n",
       "      <td>3</td>\n",
       "      <td>4</td>\n",
       "      <td>5</td>\n",
       "    </tr>\n",
       "    <tr>\n",
       "      <th>1</th>\n",
       "      <td>2</td>\n",
       "      <td>3</td>\n",
       "      <td>6</td>\n",
       "      <td>7</td>\n",
       "      <td>8</td>\n",
       "    </tr>\n",
       "  </tbody>\n",
       "</table>\n",
       "</div>"
      ],
      "text/plain": [
       "   0  1  2  3  4\n",
       "0  1  2  3  4  5\n",
       "1  2  3  6  7  8"
      ]
     },
     "execution_count": 6,
     "metadata": {},
     "output_type": "execute_result"
    }
   ],
   "source": [
    "#ques 3,  remove dupicates from column 2 and show only first occurances\n",
    "df_from_arr = pd.DataFrame(data=[a,b])\n",
    "df_from_arr.drop_duplicates(subset=2)\n",
    "df_from_arr"
   ]
  },
  {
   "cell_type": "code",
   "execution_count": null,
   "metadata": {},
   "outputs": [],
   "source": []
  },
  {
   "cell_type": "markdown",
   "metadata": {},
   "source": [
    "# Question 1\n",
    "Load purchase data and price data from purchases.csv and prices.csv"
   ]
  },
  {
   "cell_type": "code",
   "execution_count": 15,
   "metadata": {},
   "outputs": [
    {
     "data": {
      "text/html": [
       "<div>\n",
       "<style scoped>\n",
       "    .dataframe tbody tr th:only-of-type {\n",
       "        vertical-align: middle;\n",
       "    }\n",
       "\n",
       "    .dataframe tbody tr th {\n",
       "        vertical-align: top;\n",
       "    }\n",
       "\n",
       "    .dataframe thead th {\n",
       "        text-align: right;\n",
       "    }\n",
       "</style>\n",
       "<table border=\"1\" class=\"dataframe\">\n",
       "  <thead>\n",
       "    <tr style=\"text-align: right;\">\n",
       "      <th></th>\n",
       "      <th>Product</th>\n",
       "      <th>Unnamed: 1</th>\n",
       "      <th>Price (GBP)</th>\n",
       "    </tr>\n",
       "  </thead>\n",
       "  <tbody>\n",
       "    <tr>\n",
       "      <th>0</th>\n",
       "      <td>Chocolate bar</td>\n",
       "      <td>NaN</td>\n",
       "      <td>0.5</td>\n",
       "    </tr>\n",
       "    <tr>\n",
       "      <th>1</th>\n",
       "      <td>Coffee</td>\n",
       "      <td>NaN</td>\n",
       "      <td>2.0</td>\n",
       "    </tr>\n",
       "    <tr>\n",
       "      <th>2</th>\n",
       "      <td>Drink</td>\n",
       "      <td>NaN</td>\n",
       "      <td>1.0</td>\n",
       "    </tr>\n",
       "    <tr>\n",
       "      <th>3</th>\n",
       "      <td>Egg sandwich</td>\n",
       "      <td>NaN</td>\n",
       "      <td>4.5</td>\n",
       "    </tr>\n",
       "    <tr>\n",
       "      <th>4</th>\n",
       "      <td>Salami sandwich</td>\n",
       "      <td>NaN</td>\n",
       "      <td>5.0</td>\n",
       "    </tr>\n",
       "  </tbody>\n",
       "</table>\n",
       "</div>"
      ],
      "text/plain": [
       "           Product  Unnamed: 1  Price (GBP)\n",
       "0    Chocolate bar         NaN          0.5\n",
       "1           Coffee         NaN          2.0\n",
       "2            Drink         NaN          1.0\n",
       "3     Egg sandwich         NaN          4.5\n",
       "4  Salami sandwich         NaN          5.0"
      ]
     },
     "execution_count": 15,
     "metadata": {},
     "output_type": "execute_result"
    }
   ],
   "source": [
    "#data_purchases = pd.read_csv(r\"C:\\Users\\Onam\\Downloads\\purchases.csv\")\n",
    "#data_purchases\n",
    "data_prices = pd.read_csv(r\"C:\\Users\\Onam\\Downloads\\prices.csv\")\n",
    "data_prices\n"
   ]
  },
  {
   "cell_type": "markdown",
   "metadata": {},
   "source": [
    "# Question 2\n",
    "Calculate who has bought the largest number of drinks IN TOTAL (across all their several purchases, note there is a Quantity column) and how many drinks he/she has purchased"
   ]
  },
  {
   "cell_type": "code",
   "execution_count": 57,
   "metadata": {},
   "outputs": [
    {
     "name": "stdout",
     "output_type": "stream",
     "text": [
      "  Customer  Quantity purchased\n",
      "3    Frank                 8.0\n"
     ]
    }
   ],
   "source": [
    "rslt_df = data_purchases.loc[data_purchases['Product'] == 'Drink']\n",
    "rslt_df\n",
    "rslt_df1=rslt_df.groupby('Customer', as_index=False)['Quantity purchased'].sum()\n",
    "rslt_df1  \n",
    "max_index = rslt_df1[\"Quantity purchased\"].idxmax()\n",
    "max_row = rslt_df1.iloc[[max_index]]\n",
    "\n",
    "print(max_row)\n",
    "\n"
   ]
  },
  {
   "cell_type": "markdown",
   "metadata": {},
   "source": [
    "# Question 3\n",
    "Calculate the total sales in GBP of all types of sandwiches, summarised per month"
   ]
  },
  {
   "cell_type": "code",
   "execution_count": 46,
   "metadata": {
    "scrolled": true
   },
   "outputs": [
    {
     "name": "stderr",
     "output_type": "stream",
     "text": [
      "C:\\Users\\Onam\\AppData\\Local\\Temp/ipykernel_2720/1025242360.py:2: FutureWarning: In a future version of pandas all arguments of DataFrame.drop except for the argument 'labels' will be keyword-only\n",
      "  merged=merged.drop('Unnamed: 1',1)\n",
      "C:\\Users\\Onam\\AppData\\Local\\Temp/ipykernel_2720/1025242360.py:5: SettingWithCopyWarning: \n",
      "A value is trying to be set on a copy of a slice from a DataFrame.\n",
      "Try using .loc[row_indexer,col_indexer] = value instead\n",
      "\n",
      "See the caveats in the documentation: https://pandas.pydata.org/pandas-docs/stable/user_guide/indexing.html#returning-a-view-versus-a-copy\n",
      "  filter_df[\"Total Sale\"] = filter_df[\"Quantity purchased\"]*filter_df[\"Price (GBP)\"]\n"
     ]
    },
    {
     "data": {
      "text/html": [
       "<div>\n",
       "<style scoped>\n",
       "    .dataframe tbody tr th:only-of-type {\n",
       "        vertical-align: middle;\n",
       "    }\n",
       "\n",
       "    .dataframe tbody tr th {\n",
       "        vertical-align: top;\n",
       "    }\n",
       "\n",
       "    .dataframe thead th {\n",
       "        text-align: right;\n",
       "    }\n",
       "</style>\n",
       "<table border=\"1\" class=\"dataframe\">\n",
       "  <thead>\n",
       "    <tr style=\"text-align: right;\">\n",
       "      <th></th>\n",
       "      <th>Product</th>\n",
       "      <th>Total Sale</th>\n",
       "    </tr>\n",
       "  </thead>\n",
       "  <tbody>\n",
       "    <tr>\n",
       "      <th>0</th>\n",
       "      <td>Egg sandwich</td>\n",
       "      <td>58.5</td>\n",
       "    </tr>\n",
       "    <tr>\n",
       "      <th>1</th>\n",
       "      <td>Salami sandwich</td>\n",
       "      <td>110.0</td>\n",
       "    </tr>\n",
       "  </tbody>\n",
       "</table>\n",
       "</div>"
      ],
      "text/plain": [
       "           Product  Total Sale\n",
       "0     Egg sandwich        58.5\n",
       "1  Salami sandwich       110.0"
      ]
     },
     "execution_count": 46,
     "metadata": {},
     "output_type": "execute_result"
    }
   ],
   "source": [
    "merged=data_purchases.merge(data_prices, on='Product',how='inner')\n",
    "merged=merged.drop('Unnamed: 1',1)\n",
    "merged\n",
    "filter_df = merged[merged['Product'].str.contains(\"sandwich\")]\n",
    "filter_df[\"Total Sale\"] = filter_df[\"Quantity purchased\"]*filter_df[\"Price (GBP)\"]\n",
    "filter_df\n",
    "filter_df1=filter_df.groupby('Product',as_index=False)['Total Sale'].sum()\n",
    "filter_df1"
   ]
  },
  {
   "cell_type": "code",
   "execution_count": null,
   "metadata": {},
   "outputs": [],
   "source": []
  },
  {
   "cell_type": "markdown",
   "metadata": {},
   "source": [
    "# Numpy Section\n",
    "\n",
    "M = np.array([[1, 5, 1], [10, 7, 1.5], [6.9, 5, 1], [19, 9, 100], [11, 11, 11]])"
   ]
  },
  {
   "cell_type": "markdown",
   "metadata": {},
   "source": [
    "# Question 1\n",
    "Filter M to only keep rows where the maximum value is >= 10"
   ]
  },
  {
   "cell_type": "code",
   "execution_count": 6,
   "metadata": {},
   "outputs": [
    {
     "data": {
      "text/plain": [
       "[array([10. ,  7. ,  1.5]), array([ 19.,   9., 100.]), array([11., 11., 11.])]"
      ]
     },
     "execution_count": 6,
     "metadata": {},
     "output_type": "execute_result"
    }
   ],
   "source": [
    "import numpy as np\n",
    "M = np.array([[1, 5, 1], [10, 7, 1.5], [6.9, 5, 1], [19, 9, 100], [11, 11, 11]])\n",
    "M\n",
    "out=[]\n",
    "for i in range(0,len(M)):\n",
    "    if max(M[i])>=10:\n",
    "        out.append(M[i])\n",
    "out        \n"
   ]
  },
  {
   "cell_type": "markdown",
   "metadata": {},
   "source": [
    "# Question 2\n",
    "Sort the columns of M based on the mean of each column (largest first)"
   ]
  },
  {
   "cell_type": "code",
   "execution_count": 82,
   "metadata": {},
   "outputs": [
    {
     "data": {
      "text/html": [
       "<div>\n",
       "<style scoped>\n",
       "    .dataframe tbody tr th:only-of-type {\n",
       "        vertical-align: middle;\n",
       "    }\n",
       "\n",
       "    .dataframe tbody tr th {\n",
       "        vertical-align: top;\n",
       "    }\n",
       "\n",
       "    .dataframe thead th {\n",
       "        text-align: right;\n",
       "    }\n",
       "</style>\n",
       "<table border=\"1\" class=\"dataframe\">\n",
       "  <thead>\n",
       "    <tr style=\"text-align: right;\">\n",
       "      <th></th>\n",
       "      <th>B</th>\n",
       "      <th>A</th>\n",
       "      <th>C</th>\n",
       "    </tr>\n",
       "  </thead>\n",
       "  <tbody>\n",
       "    <tr>\n",
       "      <th>0</th>\n",
       "      <td>5.0</td>\n",
       "      <td>1.0</td>\n",
       "      <td>1.0</td>\n",
       "    </tr>\n",
       "    <tr>\n",
       "      <th>1</th>\n",
       "      <td>7.0</td>\n",
       "      <td>10.0</td>\n",
       "      <td>1.5</td>\n",
       "    </tr>\n",
       "    <tr>\n",
       "      <th>2</th>\n",
       "      <td>5.0</td>\n",
       "      <td>6.9</td>\n",
       "      <td>1.0</td>\n",
       "    </tr>\n",
       "    <tr>\n",
       "      <th>3</th>\n",
       "      <td>9.0</td>\n",
       "      <td>19.0</td>\n",
       "      <td>100.0</td>\n",
       "    </tr>\n",
       "    <tr>\n",
       "      <th>4</th>\n",
       "      <td>11.0</td>\n",
       "      <td>11.0</td>\n",
       "      <td>11.0</td>\n",
       "    </tr>\n",
       "  </tbody>\n",
       "</table>\n",
       "</div>"
      ],
      "text/plain": [
       "      B     A      C\n",
       "0   5.0   1.0    1.0\n",
       "1   7.0  10.0    1.5\n",
       "2   5.0   6.9    1.0\n",
       "3   9.0  19.0  100.0\n",
       "4  11.0  11.0   11.0"
      ]
     },
     "execution_count": 82,
     "metadata": {},
     "output_type": "execute_result"
    }
   ],
   "source": [
    "M = np.array([[1, 5, 1], [10, 7, 1.5], [6.9, 5, 1], [19, 9, 100], [11, 11, 11]])\n",
    "M\n",
    "df = pd.DataFrame(M, columns=list('ABC'))\n",
    "df\n",
    "df.mean().sort_values()\n",
    "df.reindex(df.mean().sort_values().index, axis=1)"
   ]
  },
  {
   "cell_type": "code",
   "execution_count": null,
   "metadata": {},
   "outputs": [],
   "source": []
  }
 ],
 "metadata": {
  "kernelspec": {
   "display_name": "Python 3 (ipykernel)",
   "language": "python",
   "name": "python3"
  },
  "language_info": {
   "codemirror_mode": {
    "name": "ipython",
    "version": 3
   },
   "file_extension": ".py",
   "mimetype": "text/x-python",
   "name": "python",
   "nbconvert_exporter": "python",
   "pygments_lexer": "ipython3",
   "version": "3.9.7"
  },
  "toc": {
   "base_numbering": 1,
   "nav_menu": {},
   "number_sections": true,
   "sideBar": true,
   "skip_h1_title": false,
   "title_cell": "Table of Contents",
   "title_sidebar": "Contents",
   "toc_cell": false,
   "toc_position": {},
   "toc_section_display": true,
   "toc_window_display": false
  },
  "varInspector": {
   "cols": {
    "lenName": 16,
    "lenType": 16,
    "lenVar": 40
   },
   "kernels_config": {
    "python": {
     "delete_cmd_postfix": "",
     "delete_cmd_prefix": "del ",
     "library": "var_list.py",
     "varRefreshCmd": "print(var_dic_list())"
    },
    "r": {
     "delete_cmd_postfix": ") ",
     "delete_cmd_prefix": "rm(",
     "library": "var_list.r",
     "varRefreshCmd": "cat(var_dic_list()) "
    }
   },
   "types_to_exclude": [
    "module",
    "function",
    "builtin_function_or_method",
    "instance",
    "_Feature"
   ],
   "window_display": false
  }
 },
 "nbformat": 4,
 "nbformat_minor": 4
}
